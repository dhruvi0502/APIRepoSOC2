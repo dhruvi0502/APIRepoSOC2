{
 "cells": [
  {
   "cell_type": "markdown",
   "id": "007167e2",
   "metadata": {},
   "source": [
    "Install Requried Library"
   ]
  },
  {
   "cell_type": "code",
   "execution_count": 1,
   "id": "e2d0f98f",
   "metadata": {},
   "outputs": [
    {
     "name": "stdout",
     "output_type": "stream",
     "text": [
      "Defaulting to user installation because normal site-packages is not writeable\n",
      "Requirement already satisfied: flask in c:\\users\\dhruvi\\appdata\\local\\packages\\pythonsoftwarefoundation.python.3.12_qbz5n2kfra8p0\\localcache\\local-packages\\python312\\site-packages (3.1.0)\n",
      "Requirement already satisfied: Werkzeug>=3.1 in c:\\users\\dhruvi\\appdata\\local\\packages\\pythonsoftwarefoundation.python.3.12_qbz5n2kfra8p0\\localcache\\local-packages\\python312\\site-packages (from flask) (3.1.3)\n",
      "Requirement already satisfied: Jinja2>=3.1.2 in c:\\users\\dhruvi\\appdata\\local\\packages\\pythonsoftwarefoundation.python.3.12_qbz5n2kfra8p0\\localcache\\local-packages\\python312\\site-packages (from flask) (3.1.6)\n",
      "Requirement already satisfied: itsdangerous>=2.2 in c:\\users\\dhruvi\\appdata\\local\\packages\\pythonsoftwarefoundation.python.3.12_qbz5n2kfra8p0\\localcache\\local-packages\\python312\\site-packages (from flask) (2.2.0)\n",
      "Requirement already satisfied: click>=8.1.3 in c:\\users\\dhruvi\\appdata\\local\\packages\\pythonsoftwarefoundation.python.3.12_qbz5n2kfra8p0\\localcache\\local-packages\\python312\\site-packages (from flask) (8.1.8)\n",
      "Requirement already satisfied: blinker>=1.9 in c:\\users\\dhruvi\\appdata\\local\\packages\\pythonsoftwarefoundation.python.3.12_qbz5n2kfra8p0\\localcache\\local-packages\\python312\\site-packages (from flask) (1.9.0)\n",
      "Requirement already satisfied: colorama in c:\\users\\dhruvi\\appdata\\local\\packages\\pythonsoftwarefoundation.python.3.12_qbz5n2kfra8p0\\localcache\\local-packages\\python312\\site-packages (from click>=8.1.3->flask) (0.4.6)\n",
      "Requirement already satisfied: MarkupSafe>=2.0 in c:\\users\\dhruvi\\appdata\\local\\packages\\pythonsoftwarefoundation.python.3.12_qbz5n2kfra8p0\\localcache\\local-packages\\python312\\site-packages (from Jinja2>=3.1.2->flask) (3.0.2)\n",
      "Note: you may need to restart the kernel to use updated packages.\n"
     ]
    }
   ],
   "source": [
    "pip install flask"
   ]
  },
  {
   "cell_type": "markdown",
   "id": "ab2e2f07",
   "metadata": {},
   "source": [
    "Import Required Library"
   ]
  },
  {
   "cell_type": "code",
   "execution_count": 9,
   "id": "ddd70780",
   "metadata": {},
   "outputs": [],
   "source": [
    "from flask import jsonify , Flask\n",
    "from flask import request, abort, send_file\n",
    "from tkinter import Tk, filedialog\n",
    "import os\n",
    "import requests\n",
    "from io import BytesIO"
   ]
  },
  {
   "cell_type": "markdown",
   "id": "38b12be1",
   "metadata": {},
   "source": [
    "Create Route for download pdf file"
   ]
  },
  {
   "cell_type": "code",
   "execution_count": null,
   "id": "30ff7340",
   "metadata": {},
   "outputs": [
    {
     "name": "stdout",
     "output_type": "stream",
     "text": [
      " * Serving Flask app '__main__'\n",
      " * Debug mode: off\n"
     ]
    },
    {
     "name": "stderr",
     "output_type": "stream",
     "text": [
      "WARNING: This is a development server. Do not use it in a production deployment. Use a production WSGI server instead.\n",
      " * Running on http://127.0.0.1:5000\n",
      "Press CTRL+C to quit\n"
     ]
    },
    {
     "name": "stdout",
     "output_type": "stream",
     "text": [
      "https://upload-api-3.onrender.com/api/file/6800a1125c856f519197731c\n"
     ]
    },
    {
     "name": "stderr",
     "output_type": "stream",
     "text": [
      "127.0.0.1 - - [17/Apr/2025 17:42:56] \"GET /download?filePath=https://upload-api-3.onrender.com/api/file/6800a1125c856f519197731c HTTP/1.1\" 200 -\n"
     ]
    },
    {
     "name": "stdout",
     "output_type": "stream",
     "text": [
      "Sending file: 6800a1125c856f519197731c.pdf with size: 2846371 bytes\n",
      "Headers: {'Date': 'Thu, 17 Apr 2025 12:12:55 GMT', 'Content-Type': 'application/pdf', 'Transfer-Encoding': 'chunked', 'Connection': 'keep-alive', 'content-disposition': 'inline; filename=\"cloudflare_area_1_2023_type_2_soc_2.pdf\"', 'rndr-id': '284f6abb-1c90-486d', 'x-render-origin-server': 'Render', 'cf-cache-status': 'DYNAMIC', 'Server': 'cloudflare', 'CF-RAY': '931bd54c784e2965-BOM', 'alt-svc': 'h3=\":443\"; ma=86400'}\n"
     ]
    }
   ],
   "source": [
    "app = Flask(__name__)\n",
    "\n",
    "@app.route('/download', methods = ['GET'])\n",
    "def DownloadFile():\n",
    "\n",
    "    filePath = request.json['filePath'] \n",
    "    print(filePath)\n",
    "     # Optional: Validate and sanitize file path here\n",
    "    if not filePath:\n",
    "        return abort(404, description=\"FilePath Is Missing.\")\n",
    "    \n",
    "    try:\n",
    "        response = requests.get(filePath, stream=True)\n",
    "        if response.status_code != 200:\n",
    "            return abort(404, description=\"File could not be downloaded from the URL.\")\n",
    "        \n",
    "        # Infer filename from URL or default\n",
    "        filename = filePath.split(\"/\")[-1].split(\"?\")[0]\n",
    "        if not filename.lower().endswith('.pdf'):\n",
    "            filename += \".pdf\"\n",
    "        # Create an in-memory buffer\n",
    "        file_stream = BytesIO(response.content)\n",
    "        file_stream.seek(0)\n",
    "        print(f\"Sending file: {filename} with size: {len(response.content)} bytes\")\n",
    "        print(f\"Headers: {dict(response.headers)}\")\n",
    "        return send_file(\n",
    "            file_stream,\n",
    "            as_attachment=True,\n",
    "            download_name=filename,\n",
    "            mimetype='application/pdf'\n",
    "        )\n",
    "    except Exception as e:\n",
    "        return abort(500, description=f\"Error downloading file: {str(e)}\")\n",
    "\n",
    "if __name__ == '__main__':\n",
    "    port = int(os.environ.get('PORT', 5000))  # Use Render's PORT or default to 5000 locally\n",
    "    app.run(host='0.0.0.0', port=port, debug=False)\n"
   ]
  },
  {
   "cell_type": "code",
   "execution_count": null,
   "id": "1f9957f5",
   "metadata": {},
   "outputs": [],
   "source": []
  }
 ],
 "metadata": {
  "kernelspec": {
   "display_name": "Python 3",
   "language": "python",
   "name": "python3"
  },
  "language_info": {
   "codemirror_mode": {
    "name": "ipython",
    "version": 3
   },
   "file_extension": ".py",
   "mimetype": "text/x-python",
   "name": "python",
   "nbconvert_exporter": "python",
   "pygments_lexer": "ipython3",
   "version": "3.12.10"
  }
 },
 "nbformat": 4,
 "nbformat_minor": 5
}
